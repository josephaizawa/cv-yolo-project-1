{
 "cells": [
  {
   "cell_type": "code",
   "execution_count": 17,
   "id": "f738a9f3-dbcb-458d-a88c-1c58cbc189ae",
   "metadata": {},
   "outputs": [
    {
     "name": "stdout",
     "output_type": "stream",
     "text": [
      "WARNING ⚠️ 'source' is missing. Using 'source=/opt/anaconda3/lib/python3.12/site-packages/ultralytics/assets'.\n",
      "\n",
      "image 1/2 /opt/anaconda3/lib/python3.12/site-packages/ultralytics/assets/bus.jpg: 640x480 4 persons, 1 bus, 1 stop sign, 74.2ms\n",
      "22 231 805 756\n",
      "48 398 245 902\n",
      "669 392 809 877\n",
      "221 405 344 857\n",
      "0 550 63 873\n",
      "0 254 32 324\n",
      "image 2/2 /opt/anaconda3/lib/python3.12/site-packages/ultralytics/assets/zidane.jpg: 384x640 2 persons, 1 tie, 68.1ms\n",
      "114 197 1114 711\n",
      "748 41 1143 713\n",
      "439 437 524 709\n",
      "Speed: 3.4ms preprocess, 71.1ms inference, 0.7ms postprocess per image at shape (1, 3, 384, 640)\n"
     ]
    },
    {
     "ename": "error",
     "evalue": "OpenCV(4.10.0) /Users/runner/work/opencv-python/opencv-python/opencv/modules/highgui/src/window.cpp:973: error: (-215:Assertion failed) size.width>0 && size.height>0 in function 'imshow'\n",
     "output_type": "error",
     "traceback": [
      "\u001b[0;31m---------------------------------------------------------------------------\u001b[0m",
      "\u001b[0;31merror\u001b[0m                                     Traceback (most recent call last)",
      "Cell \u001b[0;32mIn[17], line 20\u001b[0m\n\u001b[1;32m     18\u001b[0m         x1,y1,x2,y2 \u001b[38;5;241m=\u001b[39m \u001b[38;5;28mint\u001b[39m(x1),\u001b[38;5;28mint\u001b[39m(y1),\u001b[38;5;28mint\u001b[39m(x2),\u001b[38;5;28mint\u001b[39m(y2)\n\u001b[1;32m     19\u001b[0m         \u001b[38;5;28mprint\u001b[39m(x1,y1,x2,y2)\n\u001b[0;32m---> 20\u001b[0m cv2\u001b[38;5;241m.\u001b[39mimshow(\u001b[38;5;124m\"\u001b[39m\u001b[38;5;124mImage\u001b[39m\u001b[38;5;124m\"\u001b[39m,img)\n\u001b[1;32m     21\u001b[0m cv2\u001b[38;5;241m.\u001b[39mwaitKey(\u001b[38;5;241m1\u001b[39m)\n",
      "\u001b[0;31merror\u001b[0m: OpenCV(4.10.0) /Users/runner/work/opencv-python/opencv-python/opencv/modules/highgui/src/window.cpp:973: error: (-215:Assertion failed) size.width>0 && size.height>0 in function 'imshow'\n"
     ]
    }
   ],
   "source": [
    "from ultralytics import YOLO\n",
    "import cv2\n",
    "import cvzone\n",
    "\n",
    "cap =  cv2.VideoCapture(0)\n",
    "cap.set(3, 640)\n",
    "cap.set(4, 480)\n",
    "\n",
    "model = YOLO(\"yolo-weights/yolov8n.pt\")\n",
    "\n",
    "while True:\n",
    "    success, img = cap.read()\n",
    "    results = model(img,stream=True)\n",
    "    for r in results:\n",
    "        boxes = r.boxes\n",
    "        for box in boxes:\n",
    "            x1,y1,x2,y2 = box.xyxy[0]\n",
    "            x1,y1,x2,y2 = int(x1),int(y1),int(x2),int(y2)\n",
    "            print(x1,y1,x2,y2)\n",
    "            cv2.rectangle(img,(x1,y1),(x2,y2),\n",
    "    cv2.imshow(\"Image\",img)\n",
    "    cv2.waitKey(1)\n",
    "\n",
    "\n",
    "\n",
    "\n"
   ]
  },
  {
   "cell_type": "code",
   "execution_count": null,
   "id": "04bac573-ae61-42a8-83a4-66afa7dee448",
   "metadata": {},
   "outputs": [],
   "source": []
  },
  {
   "cell_type": "code",
   "execution_count": null,
   "id": "6bd36706-8163-42b5-b885-44eb15835882",
   "metadata": {},
   "outputs": [],
   "source": []
  }
 ],
 "metadata": {
  "kernelspec": {
   "display_name": "Python 3 (ipykernel)",
   "language": "python",
   "name": "python3"
  },
  "language_info": {
   "codemirror_mode": {
    "name": "ipython",
    "version": 3
   },
   "file_extension": ".py",
   "mimetype": "text/x-python",
   "name": "python",
   "nbconvert_exporter": "python",
   "pygments_lexer": "ipython3",
   "version": "3.12.4"
  }
 },
 "nbformat": 4,
 "nbformat_minor": 5
}
