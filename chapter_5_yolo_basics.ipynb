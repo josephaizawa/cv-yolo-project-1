{
 "cells": [
  {
   "cell_type": "code",
   "execution_count": 3,
   "id": "a42b669f-6bd7-480f-b40c-08dd3f5d9569",
   "metadata": {},
   "outputs": [
    {
     "name": "stdout",
     "output_type": "stream",
     "text": [
      "\n",
      "image 1/1 /Users/josephaizawa/Python/Projects/object_detection_yolo/resources/yolo/image3.png: 288x640 15 cars, 9 motorcycles, 1 truck, 347.9ms\n",
      "Speed: 1.2ms preprocess, 347.9ms inference, 0.7ms postprocess per image at shape (1, 3, 288, 640)\n"
     ]
    }
   ],
   "source": [
    "from ultralytics import YOLO\n",
    "\n",
    "model = YOLO('yolo-weights/yolov8l.pt')\n",
    "results = model(\"resources/yolo/image3.png\", show=True)\n"
   ]
  },
  {
   "cell_type": "code",
   "execution_count": null,
   "id": "030fddb1-7e64-4e54-8e1e-1913a8413ce3",
   "metadata": {},
   "outputs": [],
   "source": []
  }
 ],
 "metadata": {
  "kernelspec": {
   "display_name": "Python 3 (ipykernel)",
   "language": "python",
   "name": "python3"
  },
  "language_info": {
   "codemirror_mode": {
    "name": "ipython",
    "version": 3
   },
   "file_extension": ".py",
   "mimetype": "text/x-python",
   "name": "python",
   "nbconvert_exporter": "python",
   "pygments_lexer": "ipython3",
   "version": "3.12.4"
  }
 },
 "nbformat": 4,
 "nbformat_minor": 5
}
